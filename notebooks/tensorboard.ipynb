{
 "cells": [
  {
   "cell_type": "code",
   "execution_count": 7,
   "id": "6b8a6f5e-182a-4c9f-bc7e-8844259e61f5",
   "metadata": {},
   "outputs": [
    {
     "name": "stdout",
     "output_type": "stream",
     "text": [
      "2022-08-23 16:53:25.751444: I tensorflow/stream_executor/cuda/cuda_gpu_executor.cc:975] successful NUMA node read from SysFS had negative value (-1), but there must be at least one NUMA node, so returning NUMA node zero\n",
      "2022-08-23 16:53:25.762976: I tensorflow/stream_executor/cuda/cuda_gpu_executor.cc:975] successful NUMA node read from SysFS had negative value (-1), but there must be at least one NUMA node, so returning NUMA node zero\n",
      "2022-08-23 16:53:25.763653: I tensorflow/stream_executor/cuda/cuda_gpu_executor.cc:975] successful NUMA node read from SysFS had negative value (-1), but there must be at least one NUMA node, so returning NUMA node zero\n",
      "View your Tensorboard at https://us-central1.tensorboard.googleusercontent.com/experiment/projects+501306953789+locations+us-central1+tensorboards+740402334051336192+experiments+largewindowslinux\n",
      "\u001b[1m[2022-08-23T16:53:29]\u001b[0m Started scanning logdir.\n",
      "\u001b[1m[2022-08-23T16:53:39]\u001b[0m Total uploaded: 0 scalars, 0 tensors, 3 binary objects (20.4 MB)\n",
      "^C2K\u001b[33mListening for new data in logdir...\u001b[0m\n",
      "Traceback (most recent call last):\n",
      "  File \"/opt/conda/bin/tb-gcp-uploader\", line 10, in <module>\n",
      "    sys.exit(run_main())\n",
      "  File \"/opt/conda/lib/python3.7/site-packages/google/cloud/aiplatform/tensorboard/uploader_main.py\", line 185, in run_main\n",
      "    app.run(main, flags_parser=flags_parser)\n",
      "  File \"/opt/conda/lib/python3.7/site-packages/absl/app.py\", line 312, in run\n",
      "    _run_main(main, args)\n",
      "  File \"/opt/conda/lib/python3.7/site-packages/absl/app.py\", line 258, in _run_main\n",
      "    sys.exit(main(argv))\n",
      "  File \"/opt/conda/lib/python3.7/site-packages/google/cloud/aiplatform/tensorboard/uploader_main.py\", line 158, in main\n",
      "    tb_uploader.start_uploading()\n",
      "  File \"/opt/conda/lib/python3.7/site-packages/google/cloud/aiplatform/tensorboard/uploader.py\", line 385, in start_uploading\n",
      "    self._logdir_poll_rate_limiter.tick()\n",
      "  File \"/opt/conda/lib/python3.7/site-packages/tensorboard/uploader/util.py\", line 42, in tick\n",
      "    self._time.sleep(wait_secs)\n",
      "KeyboardInterrupt\n"
     ]
    }
   ],
   "source": [
    "!tb-gcp-uploader --tensorboard_resource_name projects/lemmingsinthewind/locations/us-central1/tensorboards/740402334051336192 --logdir gs://chunkbert_training/bert_model3/ --experiment_name=largewindowslinux"
   ]
  }
 ],
 "metadata": {
  "environment": {
   "kernel": "python3",
   "name": "tf-gpu.1-15.m94",
   "type": "gcloud",
   "uri": "gcr.io/deeplearning-platform-release/tf-gpu.1-15:m94"
  },
  "kernelspec": {
   "display_name": "TensorFlow 2 (Local)",
   "language": "python",
   "name": "local-tf2"
  },
  "language_info": {
   "codemirror_mode": {
    "name": "ipython",
    "version": 3
   },
   "file_extension": ".py",
   "mimetype": "text/x-python",
   "name": "python",
   "nbconvert_exporter": "python",
   "pygments_lexer": "ipython3",
   "version": "3.7.12"
  }
 },
 "nbformat": 4,
 "nbformat_minor": 5
}
