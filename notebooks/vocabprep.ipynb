{
 "cells": [
  {
   "cell_type": "code",
   "execution_count": 1,
   "id": "6e65268f-76e4-42f3-ba39-d44c8338f68d",
   "metadata": {},
   "outputs": [
    {
     "name": "stdout",
     "output_type": "stream",
     "text": [
      "Collecting tokenizers\n",
      "  Downloading tokenizers-0.12.1-cp37-cp37m-manylinux_2_12_x86_64.manylinux2010_x86_64.whl (6.6 MB)\n",
      "\u001b[2K     \u001b[90m━━━━━━━━━━━━━━━━━━━━━━━━━━━━━━━━━━━━━━━━\u001b[0m \u001b[32m6.6/6.6 MB\u001b[0m \u001b[31m49.3 MB/s\u001b[0m eta \u001b[36m0:00:00\u001b[0m00:01\u001b[0m00:01\u001b[0m\n",
      "\u001b[?25hInstalling collected packages: tokenizers\n",
      "Successfully installed tokenizers-0.12.1\n"
     ]
    }
   ],
   "source": [
    "!pip install -q tokenizers"
   ]
  },
  {
   "cell_type": "code",
   "execution_count": 2,
   "id": "93c646b3-ba82-4466-8689-e5fdd7d51a92",
   "metadata": {},
   "outputs": [
    {
     "name": "stdout",
     "output_type": "stream",
     "text": [
      "Copying gs://chunkerbert/v2/full.txt...\n",
      "- [1 files][  1.0 GiB/  1.0 GiB]   84.6 MiB/s                                   \n",
      "Operation completed over 1 objects/1.0 GiB.                                      \n"
     ]
    }
   ],
   "source": [
    "!gsutil cp gs://chunkerbert/v2/full.txt .\n",
    "!gsutil cp gs://chunkerbert/v2/windows.txt .\n",
    "!cat windows.txt >> full.txt"
   ]
  },
  {
   "cell_type": "code",
   "execution_count": 5,
   "id": "90ca491c-eee4-4552-af4c-25fc3dd17c8d",
   "metadata": {},
   "outputs": [],
   "source": [
    "from tokenizers import BertWordPieceTokenizer\n",
    "\n",
    "# Initialize an empty BERT tokenizer\n",
    "tokenizer = BertWordPieceTokenizer(\n",
    "  clean_text=False,\n",
    "  handle_chinese_chars=False,\n",
    "  strip_accents=False,\n",
    "  lowercase=True,\n",
    ")"
   ]
  },
  {
   "cell_type": "code",
   "execution_count": 6,
   "id": "38f6314d-ffdb-4783-8fae-e96b883eca66",
   "metadata": {},
   "outputs": [
    {
     "name": "stdout",
     "output_type": "stream",
     "text": [
      "\n",
      "\n",
      "\n"
     ]
    }
   ],
   "source": [
    "files = ['full.txt']\n",
    "tokenizer.train(\n",
    "  files,\n",
    "  vocab_size=128000,\n",
    "  min_frequency=2,\n",
    "  show_progress=True,\n",
    "  special_tokens=['[PAD]', '[UNK]', '[CLS]', '[SEP]', '[MASK]'],\n",
    "  limit_alphabet=1000,\n",
    "  wordpieces_prefix=\"##\"\n",
    ")\n",
    "\n"
   ]
  },
  {
   "cell_type": "code",
   "execution_count": 7,
   "id": "11d4617a-056e-400f-a275-27e56cb08934",
   "metadata": {},
   "outputs": [
    {
     "name": "stdout",
     "output_type": "stream",
     "text": [
      "Tokenizer(vocabulary_size=128000, model=BertWordPiece, unk_token=[UNK], sep_token=[SEP], cls_token=[CLS], pad_token=[PAD], mask_token=[MASK], clean_text=False, handle_chinese_chars=False, strip_accents=False, lowercase=True, wordpieces_prefix=##)\n"
     ]
    }
   ],
   "source": [
    "print(tokenizer)"
   ]
  },
  {
   "cell_type": "code",
   "execution_count": 8,
   "id": "47187c0a-5509-4aa6-971b-da5a6d46e4e0",
   "metadata": {},
   "outputs": [
    {
     "data": {
      "text/plain": [
       "['./bert-wordpiecev2-vocab.txt']"
      ]
     },
     "execution_count": 8,
     "metadata": {},
     "output_type": "execute_result"
    }
   ],
   "source": [
    "tokenizer.save_model(\".\",'bert-wordpiecev3')"
   ]
  },
  {
   "cell_type": "code",
   "execution_count": 3,
   "id": "56ceb9c2-1b01-4184-b672-71c4c2bd0a6d",
   "metadata": {},
   "outputs": [],
   "source": [
    "def count_lines(filename):\n",
    "  count = 0\n",
    "  with open(filename) as fi:\n",
    "    for line in fi:\n",
    "      count += 1\n",
    "  return count"
   ]
  },
  {
   "cell_type": "code",
   "execution_count": 4,
   "id": "d28b4498-4a7f-430a-99f2-d9a77fcf9471",
   "metadata": {},
   "outputs": [
    {
     "data": {
      "text/plain": [
       "489702"
      ]
     },
     "execution_count": 4,
     "metadata": {},
     "output_type": "execute_result"
    }
   ],
   "source": [
    "count_lines(\"full.txt\")"
   ]
  },
  {
   "cell_type": "code",
   "execution_count": 1,
   "id": "28d29f73-f1bf-41a9-9c9f-73317f3250ec",
   "metadata": {},
   "outputs": [
    {
     "name": "stdout",
     "output_type": "stream",
     "text": [
      "Copying file://bert-wordpiecev2-vocab.txt [Content-Type=text/plain]...\n",
      "/ [1 files][  1.2 MiB/  1.2 MiB]                                                \n",
      "Operation completed over 1 objects/1.2 MiB.                                      \n"
     ]
    }
   ],
   "source": [
    "!gsutil cp bert-wordpiecev3-vocab.txt gs://chunkerbert/v2/"
   ]
  },
  {
   "cell_type": "code",
   "execution_count": 1,
   "id": "e2f5dc2e-d32e-40f1-b5c1-8b708baea952",
   "metadata": {},
   "outputs": [
    {
     "name": "stdout",
     "output_type": "stream",
     "text": [
      "Copying gs://chunkerbert/v2/bert-wordpiecev3-vocab.txt...\n",
      "/ [1 files][  1.2 MiB/  1.2 MiB]                                                \n",
      "Operation completed over 1 objects/1.2 MiB.                                      \n"
     ]
    }
   ],
   "source": [
    "!gsutil cp  gs://chunkerbert/v2/bert-wordpiecev3-vocab.txt ."
   ]
  },
  {
   "cell_type": "code",
   "execution_count": null,
   "id": "5bd734d0-e37a-409f-a213-072be9768a20",
   "metadata": {},
   "outputs": [],
   "source": []
  }
 ],
 "metadata": {
  "environment": {
   "kernel": "python3",
   "name": "tf-gpu.1-15.m94",
   "type": "gcloud",
   "uri": "gcr.io/deeplearning-platform-release/tf-gpu.1-15:m94"
  },
  "kernelspec": {
   "display_name": "Custom [tf-gpu.1-15] (Local)",
   "language": "python",
   "name": "local-us-central1-docker.pkg.dev_lemmingsinthewind_workbench_tf-gpu.1-15_sha256_572a87b2ba89b08714325c28261c6917f5623fd6e31246cd07daa7200f9753e3__python3"
  },
  "language_info": {
   "codemirror_mode": {
    "name": "ipython",
    "version": 3
   },
   "file_extension": ".py",
   "mimetype": "text/x-python",
   "name": "python",
   "nbconvert_exporter": "python",
   "pygments_lexer": "ipython3",
   "version": "3.7.12"
  }
 },
 "nbformat": 4,
 "nbformat_minor": 5
}
